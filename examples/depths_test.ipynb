{
 "cells": [
  {
   "cell_type": "code",
   "execution_count": 1,
   "metadata": {},
   "outputs": [
    {
     "name": "stdout",
     "output_type": "stream",
     "text": [
      "(288, 102)\n"
     ]
    },
    {
     "data": {
      "text/html": [
       "<div>\n",
       "<style scoped>\n",
       "    .dataframe tbody tr th:only-of-type {\n",
       "        vertical-align: middle;\n",
       "    }\n",
       "\n",
       "    .dataframe tbody tr th {\n",
       "        vertical-align: top;\n",
       "    }\n",
       "\n",
       "    .dataframe thead th {\n",
       "        text-align: right;\n",
       "    }\n",
       "</style>\n",
       "<table border=\"1\" class=\"dataframe\">\n",
       "  <thead>\n",
       "    <tr style=\"text-align: right;\">\n",
       "      <th></th>\n",
       "      <th>C_0</th>\n",
       "      <th>C_1</th>\n",
       "      <th>C_2</th>\n",
       "      <th>C_3</th>\n",
       "      <th>C_4</th>\n",
       "      <th>C_5</th>\n",
       "      <th>C_6</th>\n",
       "      <th>C_7</th>\n",
       "      <th>C_8</th>\n",
       "      <th>C_9</th>\n",
       "      <th>...</th>\n",
       "      <th>C_92</th>\n",
       "      <th>C_93</th>\n",
       "      <th>C_94</th>\n",
       "      <th>C_95</th>\n",
       "      <th>C_96</th>\n",
       "      <th>C_97</th>\n",
       "      <th>C_98</th>\n",
       "      <th>C_99</th>\n",
       "      <th>C_100</th>\n",
       "      <th>C_101</th>\n",
       "    </tr>\n",
       "  </thead>\n",
       "  <tbody>\n",
       "    <tr>\n",
       "      <th>0</th>\n",
       "      <td>17.85</td>\n",
       "      <td>18.48</td>\n",
       "      <td>18.80</td>\n",
       "      <td>17.85</td>\n",
       "      <td>17.85</td>\n",
       "      <td>18.48</td>\n",
       "      <td>18.17</td>\n",
       "      <td>17.53</td>\n",
       "      <td>18.17</td>\n",
       "      <td>18.17</td>\n",
       "      <td>...</td>\n",
       "      <td>17.53</td>\n",
       "      <td>18.48</td>\n",
       "      <td>19.12</td>\n",
       "      <td>17.85</td>\n",
       "      <td>16.58</td>\n",
       "      <td>16.26</td>\n",
       "      <td>17.21</td>\n",
       "      <td>16.26</td>\n",
       "      <td>15.3</td>\n",
       "      <td>17.85</td>\n",
       "    </tr>\n",
       "    <tr>\n",
       "      <th>1</th>\n",
       "      <td>17.85</td>\n",
       "      <td>18.17</td>\n",
       "      <td>18.48</td>\n",
       "      <td>17.53</td>\n",
       "      <td>17.53</td>\n",
       "      <td>18.48</td>\n",
       "      <td>18.17</td>\n",
       "      <td>17.53</td>\n",
       "      <td>18.17</td>\n",
       "      <td>18.17</td>\n",
       "      <td>...</td>\n",
       "      <td>17.53</td>\n",
       "      <td>18.17</td>\n",
       "      <td>19.12</td>\n",
       "      <td>17.85</td>\n",
       "      <td>16.58</td>\n",
       "      <td>15.94</td>\n",
       "      <td>17.21</td>\n",
       "      <td>16.26</td>\n",
       "      <td>15.3</td>\n",
       "      <td>17.85</td>\n",
       "    </tr>\n",
       "    <tr>\n",
       "      <th>2</th>\n",
       "      <td>17.85</td>\n",
       "      <td>18.17</td>\n",
       "      <td>18.48</td>\n",
       "      <td>17.53</td>\n",
       "      <td>17.85</td>\n",
       "      <td>18.48</td>\n",
       "      <td>18.17</td>\n",
       "      <td>17.53</td>\n",
       "      <td>18.17</td>\n",
       "      <td>18.17</td>\n",
       "      <td>...</td>\n",
       "      <td>17.53</td>\n",
       "      <td>18.17</td>\n",
       "      <td>19.12</td>\n",
       "      <td>17.85</td>\n",
       "      <td>16.58</td>\n",
       "      <td>16.26</td>\n",
       "      <td>17.21</td>\n",
       "      <td>16.26</td>\n",
       "      <td>15.3</td>\n",
       "      <td>17.85</td>\n",
       "    </tr>\n",
       "    <tr>\n",
       "      <th>3</th>\n",
       "      <td>17.85</td>\n",
       "      <td>18.17</td>\n",
       "      <td>18.80</td>\n",
       "      <td>17.53</td>\n",
       "      <td>17.53</td>\n",
       "      <td>18.48</td>\n",
       "      <td>18.17</td>\n",
       "      <td>17.53</td>\n",
       "      <td>18.17</td>\n",
       "      <td>18.17</td>\n",
       "      <td>...</td>\n",
       "      <td>17.53</td>\n",
       "      <td>18.17</td>\n",
       "      <td>19.12</td>\n",
       "      <td>17.85</td>\n",
       "      <td>16.58</td>\n",
       "      <td>15.94</td>\n",
       "      <td>17.21</td>\n",
       "      <td>16.26</td>\n",
       "      <td>15.3</td>\n",
       "      <td>17.85</td>\n",
       "    </tr>\n",
       "    <tr>\n",
       "      <th>4</th>\n",
       "      <td>17.85</td>\n",
       "      <td>18.17</td>\n",
       "      <td>18.80</td>\n",
       "      <td>17.53</td>\n",
       "      <td>17.85</td>\n",
       "      <td>18.48</td>\n",
       "      <td>18.17</td>\n",
       "      <td>17.53</td>\n",
       "      <td>18.17</td>\n",
       "      <td>18.17</td>\n",
       "      <td>...</td>\n",
       "      <td>17.53</td>\n",
       "      <td>18.17</td>\n",
       "      <td>19.12</td>\n",
       "      <td>17.85</td>\n",
       "      <td>16.58</td>\n",
       "      <td>16.26</td>\n",
       "      <td>17.21</td>\n",
       "      <td>16.26</td>\n",
       "      <td>15.3</td>\n",
       "      <td>17.85</td>\n",
       "    </tr>\n",
       "  </tbody>\n",
       "</table>\n",
       "<p>5 rows × 102 columns</p>\n",
       "</div>"
      ],
      "text/plain": [
       "     C_0    C_1    C_2    C_3    C_4    C_5    C_6    C_7    C_8    C_9  ...  \\\n",
       "0  17.85  18.48  18.80  17.85  17.85  18.48  18.17  17.53  18.17  18.17  ...   \n",
       "1  17.85  18.17  18.48  17.53  17.53  18.48  18.17  17.53  18.17  18.17  ...   \n",
       "2  17.85  18.17  18.48  17.53  17.85  18.48  18.17  17.53  18.17  18.17  ...   \n",
       "3  17.85  18.17  18.80  17.53  17.53  18.48  18.17  17.53  18.17  18.17  ...   \n",
       "4  17.85  18.17  18.80  17.53  17.85  18.48  18.17  17.53  18.17  18.17  ...   \n",
       "\n",
       "    C_92   C_93   C_94   C_95   C_96   C_97   C_98   C_99  C_100  C_101  \n",
       "0  17.53  18.48  19.12  17.85  16.58  16.26  17.21  16.26   15.3  17.85  \n",
       "1  17.53  18.17  19.12  17.85  16.58  15.94  17.21  16.26   15.3  17.85  \n",
       "2  17.53  18.17  19.12  17.85  16.58  16.26  17.21  16.26   15.3  17.85  \n",
       "3  17.53  18.17  19.12  17.85  16.58  15.94  17.21  16.26   15.3  17.85  \n",
       "4  17.53  18.17  19.12  17.85  16.58  16.26  17.21  16.26   15.3  17.85  \n",
       "\n",
       "[5 rows x 102 columns]"
      ]
     },
     "execution_count": 1,
     "metadata": {},
     "output_type": "execute_result"
    }
   ],
   "source": [
    "import numpy as np\n",
    "import pandas as pd\n",
    "from scipy.interpolate import UnivariateSpline\n",
    "from scipy.integrate import trapz, cumtrapz\n",
    "import optimum_reparamN2 as orN2\n",
    "import optimum_reparam_N as orN\n",
    "from joblib import Parallel, delayed\n",
    "\n",
    "\n",
    "df = pd.read_csv(\"./data/sample_data2.csv\")\n",
    "print(df.shape)\n",
    "df.head()"
   ]
  },
  {
   "cell_type": "code",
   "execution_count": 2,
   "metadata": {},
   "outputs": [],
   "source": [
    "start = 0\n",
    "n_timepts = 20"
   ]
  },
  {
   "cell_type": "code",
   "execution_count": 3,
   "metadata": {},
   "outputs": [],
   "source": [
    "def restart():    \n",
    "    F = df[start:n_timepts].iloc[:-1,:-1].to_numpy()\n",
    "    time_points = np.linspace(0, 1, F.shape[0])\n",
    "\n",
    "    return F, time_points\n",
    "\n",
    "F, time_points = restart()"
   ]
  },
  {
   "cell_type": "code",
   "execution_count": 4,
   "metadata": {},
   "outputs": [],
   "source": [
    "global g \n",
    "global gam\n",
    "\n",
    "def f_to_srsf(f, time, smooth=False):\n",
    "    eps = np.finfo(np.double).eps\n",
    "    f0, g, g2 = gradient_spline(time, f, smooth)\n",
    "    q = g / np.sqrt(np.fabs(g) + eps)\n",
    "    return q\n",
    "\n",
    "def gradient_spline(time, f, smooth=False):\n",
    "    M = f.shape[0]\n",
    "\n",
    "    if f.ndim > 1:\n",
    "        N = f.shape[1]\n",
    "        f0 = np.zeros((M, N))\n",
    "        g = np.zeros((M, N))\n",
    "        g2 = np.zeros((M, N))\n",
    "        for k in range(0, N):\n",
    "            if smooth:\n",
    "                spar = time.shape[0] * (.025 * np.fabs(f[:, k]).max()) ** 2\n",
    "            else:\n",
    "                spar = 0\n",
    "            tmp_spline = UnivariateSpline(time, f[:, k], s=spar)\n",
    "            f0[:, k] = tmp_spline(time)\n",
    "            g[:, k] = tmp_spline(time, 1)\n",
    "            g2[:, k] = tmp_spline(time, 2)\n",
    "    else:\n",
    "        if smooth:\n",
    "            spar = time.shape[0] * (.025 * np.fabs(f).max()) ** 2\n",
    "        else:\n",
    "            spar = 0\n",
    "        tmp_spline = UnivariateSpline(time, f, s=spar)\n",
    "        f0 = tmp_spline(time)\n",
    "        g = tmp_spline(time, 1)\n",
    "        g2 = tmp_spline(time, 2)\n",
    "\n",
    "    return f0, g, g2\n",
    "\n",
    "def optimum_reparam(q1, time, q2, method=\"DP2\", lam=0.0, penalty=\"roughness\", grid_dim=7):\n",
    "    if penalty == \"l2gam\" and (method == \"DP\" or method == \"DP2\"):\n",
    "        raise Exception('penalty not implemented')\n",
    "    if penalty == \"l2psi\" and (method == \"DP\" or method == \"DP2\"):\n",
    "        raise Exception('penalty not implemented')\n",
    "    if penalty == \"geodesic\" and (method == \"DP\" or method == \"DP2\"):\n",
    "        raise Exception('penalty not implemented')\n",
    "    \n",
    "    if method == \"DP2\":\n",
    "        if q1.ndim == 1 and q2.ndim == 1:\n",
    "            gam = orN2.coptimum_reparam(np.ascontiguousarray(q1), time,\n",
    "                                        np.ascontiguousarray(q2), lam, grid_dim)\n",
    "\n",
    "        if q1.ndim == 1 and q2.ndim == 2:\n",
    "            gam = orN2.coptimum_reparamN(np.ascontiguousarray(q1), time,\n",
    "                                        np.ascontiguousarray(q2), lam, grid_dim)\n",
    "\n",
    "        if q1.ndim == 2 and q2.ndim == 2:\n",
    "            gam = orN2.coptimum_reparamN2(np.ascontiguousarray(q1), time,\n",
    "                                        np.ascontiguousarray(q2), lam, grid_dim)\n",
    "        \n",
    "    else:\n",
    "        raise Exception('Invalid Optimization Method')\n",
    "\n",
    "    return gam\n",
    "\n",
    "def elastic_distance(f1, f2, time, method=\"DP2\", lam=0.0):\n",
    "    q1 = f_to_srsf(f1, time)\n",
    "    q2 = f_to_srsf(f2, time)\n",
    "\n",
    "    gam = optimum_reparam(q1, time, q2, method, lam)\n",
    "    fw = warp_f_gamma(time, f2, gam)\n",
    "    qw = warp_q_gamma(time, q2, gam)\n",
    "\n",
    "    Dy = np.sqrt(trapz((qw - q1) ** 2, time))\n",
    "    M = time.shape[0]\n",
    "\n",
    "    time1 = np.linspace(0,1,M)\n",
    "    binsize = np.mean(np.diff(time1))\n",
    "    psi = np.sqrt(np.gradient(gam,binsize))\n",
    "    q1dotq2 = trapz(psi, time1)\n",
    "    if q1dotq2 > 1:\n",
    "        q1dotq2 = 1\n",
    "    elif q1dotq2 < -1:\n",
    "        q1dotq2 = -1\n",
    "\n",
    "    Dx = np.real(np.arccos(q1dotq2))\n",
    "\n",
    "    return Dy, Dx\n",
    "\n",
    "def elastic_outliers(F, depths):\n",
    "\n",
    "    amp = depths['amplitude']\n",
    "    phs = depths['phase']\n",
    "\n",
    "    amp_100 = np.max(amp)\n",
    "    phs_100 = np.max(phs)\n",
    "\n",
    "    amp_50 = np.percentile(amp, 50)\n",
    "    phs_50 = np.percentile(phs, 50)\n",
    "\n",
    "    amp_iqr = amp_100 - amp_50 \n",
    "    phs_iqr = phs_100 - phs_50\n",
    "\n",
    "    amp_lim = max(amp_50 - 1.5 * amp_iqr, 0)\n",
    "    phs_lim = max(phs_50 - 1.5 * phs_iqr, 0)\n",
    "\n",
    "    amp_thre = np.percentile(amp, 0.5 * 100)\n",
    "    phs_thre = np.percentile(phs, 0.5 * 100)\n",
    "\n",
    "    amp_out = (amp < amp_lim) & (amp < amp_thre)\n",
    "    phs_out = (phs < phs_lim) & (phs < phs_thre)\n",
    "\n",
    "    labels = {'amp': amp_out, 'phs': phs_out}\n",
    "\n",
    "    return labels\n",
    "\n",
    "def warp_f_gamma(time, f, gam):\n",
    "    f_temp = np.interp((time[-1] - time[0]) * gam + time[0], time, f)\n",
    "    return f_temp\n",
    "\n",
    "def warp_q_gamma(time, q, gam):\n",
    "    M = gam.size\n",
    "    gam_dev = np.gradient(gam, 1 / np.double(M - 1))\n",
    "    tmp = np.interp((time[-1] - time[0]) * gam + time[0], time, q)\n",
    "\n",
    "    q_temp = tmp * np.sqrt(gam_dev)\n",
    "\n",
    "    return q_temp\n",
    "\n",
    "def distmat(f, f1, time, idx, method):\n",
    "    N = f.shape[1]\n",
    "    dp = np.zeros(N)\n",
    "    da = np.zeros(N)\n",
    "\n",
    "    for jj in range(N):\n",
    "        Dy,Dx = elastic_distance(f[:,jj], f1, time, method)\n",
    "\n",
    "        da[jj] = Dy\n",
    "        dp[jj] = Dx\n",
    "    \n",
    "    return(da, dp)\n",
    "\n",
    "def elastic_depth(F, time_points, method=\"DP2\", lam=0.0, parallel=True):\n",
    "    obs, fns = F.shape\n",
    "\n",
    "    amp_dist = np.zeros((fns,fns))\n",
    "    phs_dist = np.zeros((fns,fns))\n",
    "\n",
    "    if parallel:\n",
    "        out = Parallel(n_jobs=-1)(delayed(distmat)(F, F[:, n], time_points, n, method) for n in range(fns))\n",
    "        for i in range(0, fns):\n",
    "            amp_dist[i, :] = out[i][0]\n",
    "            phs_dist[i, :] = out[i][1]\n",
    "    else:\n",
    "        for i in range(0, fns):\n",
    "            amp_dist[i, :], phs_dist[i, :] = distmat(F, F[:, i], time_points, i, method)\n",
    "    \n",
    "    amp_dist = amp_dist + amp_dist.T\n",
    "    phs_dist = phs_dist + phs_dist.T\n",
    "\n",
    "    amp = 1 / (1 + np.median(amp_dist,axis=0))\n",
    "    phase = 1 / (1 + np.median(phs_dist,axis=0))\n",
    "    phase = ((2+np.pi)/np.pi) * (phase - 2/(2+np.pi))\n",
    "\n",
    "    return amp, phase"
   ]
  },
  {
   "cell_type": "code",
   "execution_count": 5,
   "metadata": {},
   "outputs": [
    {
     "data": {
      "text/plain": [
       "(array([0.24455954, 0.23574058, 0.21988801, 0.26540288, 0.20919682,\n",
       "        0.23999841, 0.19681455, 0.21178533, 0.22130809, 0.27043148,\n",
       "        0.25378555, 0.28276621, 0.22010679, 0.24816159, 0.23620569,\n",
       "        0.23118673, 0.26257848, 0.22190876, 0.22865631, 0.22022211,\n",
       "        0.23426764, 0.26368799, 0.23722823, 0.23426764, 0.22000883,\n",
       "        0.2477153 , 0.24647102, 0.21823807, 0.24455954, 0.2300494 ,\n",
       "        0.23481698, 0.25912019, 0.23410827, 0.23368597, 0.22784171,\n",
       "        0.20021857, 0.25912019, 0.24647102, 0.23368597, 0.25872056,\n",
       "        0.20555252, 0.26293163, 0.24634953, 0.22260249, 0.24905818,\n",
       "        0.2294437 , 0.25890839, 0.26524014, 0.24905818, 0.27148481,\n",
       "        0.25808486, 0.27208113, 0.24422319, 0.26760063, 0.24422319,\n",
       "        0.25089876, 0.26197828, 0.25703677, 0.28192995, 0.26369772,\n",
       "        0.23387981, 0.2217911 , 0.25808486, 0.25293528, 0.25808486,\n",
       "        0.2598769 , 0.25728226, 0.27549033, 0.25808486, 0.27645253,\n",
       "        0.27345249, 0.25808486, 0.2317627 , 0.25728226, 0.27432584,\n",
       "        0.27744329, 0.25787464, 0.25728226, 0.22325767, 0.27887547,\n",
       "        0.25278389, 0.25808486, 0.27444256, 0.27407243, 0.25728226,\n",
       "        0.25073128, 0.2570888 , 0.25795855, 0.28475611, 0.23417452,\n",
       "        0.25728226, 0.25728226, 0.25808486, 0.27350937, 0.25808486,\n",
       "        0.28379178, 0.22713715, 0.22628254, 0.22723657, 0.25157436,\n",
       "        0.22146836]),\n",
       " array([0.49728877, 0.37759996, 0.22427379, 0.37918069, 0.44289185,\n",
       "        0.38307643, 0.5033482 , 0.31149338, 0.49728877, 0.49728877,\n",
       "        0.20076606, 0.45961547, 0.32398777, 0.49728877, 0.43315373,\n",
       "        0.41974652, 0.49728877, 0.16893862, 0.4856603 , 0.47118054,\n",
       "        0.50839169, 0.49728877, 0.49728877, 0.50839169, 0.49728877,\n",
       "        0.49728877, 0.49728877, 0.34648137, 0.49728877, 0.49728877,\n",
       "        0.20551135, 0.49728877, 0.42207897, 0.49728877, 0.38307643,\n",
       "        0.32096902, 0.49728877, 0.49728877, 0.49728877, 0.49728877,\n",
       "        0.29389108, 0.49728877, 0.49728877, 0.3441564 , 0.34335748,\n",
       "        0.3889851 , 0.5141085 , 0.42415931, 0.3917078 , 0.20078653,\n",
       "        0.49728877, 0.14215474, 0.3917078 , 0.46577957, 0.3917078 ,\n",
       "        0.4194586 , 0.19055954, 0.21520537, 0.4856603 , 0.22808271,\n",
       "        0.20337154, 0.28281242, 0.49728877, 0.20638653, 0.49728877,\n",
       "        0.31103118, 0.51941869, 0.21781012, 0.49728877, 0.53354326,\n",
       "        0.3040037 , 0.49728877, 0.34355897, 0.51941869, 0.25617996,\n",
       "        0.19932059, 0.49728877, 0.51941869, 0.20638653, 0.4856603 ,\n",
       "        0.18429843, 0.49728877, 0.27688714, 0.27262402, 0.51941869,\n",
       "        0.31838619, 0.29389108, 0.49728877, 0.36459603, 0.19153887,\n",
       "        0.51941869, 0.51941869, 0.49728877, 0.25617996, 0.49728877,\n",
       "        0.21520537, 0.24286172, 0.28392137, 0.22235882, 0.21310922,\n",
       "        0.23019465]))"
      ]
     },
     "execution_count": 5,
     "metadata": {},
     "output_type": "execute_result"
    }
   ],
   "source": [
    "F, time_points = restart()\n",
    "amp_depth, phs_depth = elastic_depth(F, time_points)\n",
    "depths = {'amplitude': amp_depth, 'phase': phs_depth}\n",
    "amp_depth, phs_depth"
   ]
  },
  {
   "cell_type": "code",
   "execution_count": 6,
   "metadata": {},
   "outputs": [
    {
     "data": {
      "text/plain": [
       "(19, 101)"
      ]
     },
     "execution_count": 6,
     "metadata": {},
     "output_type": "execute_result"
    }
   ],
   "source": [
    "F.shape # (time points, functions)"
   ]
  },
  {
   "cell_type": "code",
   "execution_count": 7,
   "metadata": {},
   "outputs": [
    {
     "data": {
      "text/plain": [
       "101"
      ]
     },
     "execution_count": 7,
     "metadata": {},
     "output_type": "execute_result"
    }
   ],
   "source": [
    "len(depths['amplitude'])"
   ]
  },
  {
   "cell_type": "code",
   "execution_count": 8,
   "metadata": {},
   "outputs": [
    {
     "name": "stdout",
     "output_type": "stream",
     "text": [
      "number of labels: 101\n"
     ]
    },
    {
     "data": {
      "text/plain": [
       "array([False, False, False, False, False, False,  True, False, False,\n",
       "       False, False, False, False, False, False, False, False, False,\n",
       "       False, False, False, False, False, False, False, False, False,\n",
       "       False, False, False, False, False, False, False, False,  True,\n",
       "       False, False, False, False, False, False, False, False, False,\n",
       "       False, False, False, False, False, False, False, False, False,\n",
       "       False, False, False, False, False, False, False, False, False,\n",
       "       False, False, False, False, False, False, False, False, False,\n",
       "       False, False, False, False, False, False, False, False, False,\n",
       "       False, False, False, False, False, False, False, False, False,\n",
       "       False, False, False, False, False, False, False, False, False,\n",
       "       False, False])"
      ]
     },
     "execution_count": 8,
     "metadata": {},
     "output_type": "execute_result"
    }
   ],
   "source": [
    "elastic_out = elastic_outliers(F, depths)\n",
    "print('number of labels:',len(elastic_out['amp']))\n",
    "elastic_out['amp']"
   ]
  },
  {
   "cell_type": "code",
   "execution_count": 9,
   "metadata": {},
   "outputs": [],
   "source": [
    "def prog_update(F, f, depths, labels, method=\"DP2\", lam=0.0, parallel=True):\n",
    "    obs, fns = F.shape\n",
    "\n",
    "    amp_dist = np.zeros(fns)\n",
    "    phs_dist = np.zeros(fns)\n",
    "\n",
    "    # computing elastic distances \n",
    "    amp_dist, phs_dist = distmat(F, f, time_points, 0, method)\n",
    "\n",
    "    amp_new = 1 / (1 + np.median(amp_dist,axis=0))\n",
    "    phase_new = 1 / (1 + np.median(phs_dist,axis=0))\n",
    "    phase_new = ((2+np.pi)/np.pi) * (phase_new - 2/(2+np.pi))\n",
    "\n",
    "    # computing outlier label for new amp/phase depth\n",
    "    amp_depths = depths['amplitude']\n",
    "    phs_depths = depths['phase']\n",
    "\n",
    "    amp_100 = np.max(amp_depths)\n",
    "    phs_100 = np.max(phs_depths)\n",
    "\n",
    "    amp_50 = np.percentile(amp_depths, 50)\n",
    "    phs_50 = np.percentile(phs_depths, 50)\n",
    "\n",
    "    amp_iqr = amp_100 - amp_50 \n",
    "    phs_iqr = phs_100 - phs_50\n",
    "\n",
    "    amp_lim = max(amp_50 - 1.5 * amp_iqr, 0)\n",
    "    phs_lim = max(phs_50 - 1.5 * phs_iqr, 0)\n",
    "\n",
    "    amp_thre = np.percentile(amp_depths, 0.5 * 100)\n",
    "    phs_thre = np.percentile(phs_depths, 0.5 * 100)\n",
    "\n",
    "    amp_out = (amp_new < amp_lim) & (amp_new < amp_thre)\n",
    "    phs_out = (phase_new < phs_lim) & (phase_new < phs_thre)\n",
    "\n",
    "    # updating labels\n",
    "    labels['amp'] = np.append(labels['amp'], amp_out)\n",
    "    labels['phs'] = np.append(labels['phs'], phs_out)\n",
    "\n",
    "    # updating depths\n",
    "    depths['amplitude'] = np.append(depths['amplitude'], amp_new)\n",
    "    depths['phase'] = np.append(depths['phase'], phase_new)\n",
    "\n",
    "    return labels"
   ]
  },
  {
   "cell_type": "code",
   "execution_count": 10,
   "metadata": {},
   "outputs": [],
   "source": [
    "F_new = df[start:n_timepts].iloc[:-1,101].T.to_numpy()\n",
    "out_labels = prog_update(F, F_new, depths, elastic_out)"
   ]
  },
  {
   "cell_type": "code",
   "execution_count": 11,
   "metadata": {},
   "outputs": [
    {
     "data": {
      "text/plain": [
       "102"
      ]
     },
     "execution_count": 11,
     "metadata": {},
     "output_type": "execute_result"
    }
   ],
   "source": [
    "len(depths['amplitude'])"
   ]
  },
  {
   "cell_type": "code",
   "execution_count": 12,
   "metadata": {},
   "outputs": [
    {
     "name": "stdout",
     "output_type": "stream",
     "text": [
      "number of labels: 102\n"
     ]
    },
    {
     "data": {
      "text/plain": [
       "array([False, False, False, False, False, False,  True, False, False,\n",
       "       False, False, False, False, False, False, False, False, False,\n",
       "       False, False, False, False, False, False, False, False, False,\n",
       "       False, False, False, False, False, False, False, False,  True,\n",
       "       False, False, False, False, False, False, False, False, False,\n",
       "       False, False, False, False, False, False, False, False, False,\n",
       "       False, False, False, False, False, False, False, False, False,\n",
       "       False, False, False, False, False, False, False, False, False,\n",
       "       False, False, False, False, False, False, False, False, False,\n",
       "       False, False, False, False, False, False, False, False, False,\n",
       "       False, False, False, False, False, False, False, False, False,\n",
       "       False, False, False])"
      ]
     },
     "execution_count": 12,
     "metadata": {},
     "output_type": "execute_result"
    }
   ],
   "source": [
    "print('number of labels:',len(out_labels['amp']))\n",
    "out_labels['amp']"
   ]
  },
  {
   "cell_type": "code",
   "execution_count": 13,
   "metadata": {},
   "outputs": [
    {
     "data": {
      "text/plain": [
       "C_0      16.89\n",
       "C_1      16.89\n",
       "C_2      17.53\n",
       "C_3      16.58\n",
       "C_4      16.58\n",
       "         ...  \n",
       "C_97     15.94\n",
       "C_98     17.21\n",
       "C_99     16.26\n",
       "C_100    15.30\n",
       "C_101    17.85\n",
       "Name: 287, Length: 102, dtype: float64"
      ]
     },
     "execution_count": 13,
     "metadata": {},
     "output_type": "execute_result"
    }
   ],
   "source": [
    "df.iloc[-1,:]"
   ]
  },
  {
   "cell_type": "code",
   "execution_count": 14,
   "metadata": {},
   "outputs": [
    {
     "data": {
      "text/plain": [
       "array([[16.89, 16.89, 17.53, 16.58, 16.58, 17.21, 16.58, 16.26, 17.21,\n",
       "        16.89, 17.85, 15.62, 16.89, 17.85, 17.85, 16.89, 16.89, 16.58,\n",
       "        17.53, 15.94, 17.21, 17.53, 17.53, 16.89, 16.58, 16.89, 17.21,\n",
       "        16.58, 17.21, 18.17, 17.85, 16.58, 15.94, 17.21, 17.21, 16.89,\n",
       "        17.85, 18.17, 17.85, 17.21, 15.94, 16.89, 16.89, 15.94, 15.62,\n",
       "        16.89, 16.89, 16.26, 16.89, 17.21, 17.85, 17.21, 15.94, 16.58,\n",
       "        16.58, 15.62, 16.26, 17.53, 17.53, 16.89, 16.58, 17.53, 17.53,\n",
       "        16.89, 16.58, 16.89, 17.85, 15.94, 16.89, 17.21, 17.21, 16.58,\n",
       "        16.89, 17.53, 17.21, 16.26, 15.62, 16.58, 16.26, 15.3 , 17.21,\n",
       "        17.85, 18.17, 16.89, 15.62, 16.58, 16.26, 15.62, 16.26, 16.89,\n",
       "        17.53, 15.94, 16.58, 16.89, 17.85, 16.58, 16.58, 15.94, 17.21,\n",
       "        16.26, 15.3 , 17.85]])"
      ]
     },
     "execution_count": 14,
     "metadata": {},
     "output_type": "execute_result"
    }
   ],
   "source": [
    "x = df.iloc[-1,:].to_numpy().reshape(1, -1) # new time points shape (1, 102)\n",
    "x"
   ]
  },
  {
   "cell_type": "code",
   "execution_count": 15,
   "metadata": {},
   "outputs": [
    {
     "data": {
      "text/plain": [
       "(1, 102)"
      ]
     },
     "execution_count": 15,
     "metadata": {},
     "output_type": "execute_result"
    }
   ],
   "source": [
    "x.shape"
   ]
  },
  {
   "cell_type": "code",
   "execution_count": 16,
   "metadata": {},
   "outputs": [],
   "source": [
    "F = df[start:n_timepts].iloc[:-1,:].to_numpy()\n",
    "time_points = np.linspace(0, 1, F.shape[0])"
   ]
  },
  {
   "cell_type": "code",
   "execution_count": 17,
   "metadata": {},
   "outputs": [
    {
     "data": {
      "text/plain": [
       "array([16.89])"
      ]
     },
     "execution_count": 17,
     "metadata": {},
     "output_type": "execute_result"
    }
   ],
   "source": [
    "x[:,0]"
   ]
  },
  {
   "cell_type": "code",
   "execution_count": 18,
   "metadata": {},
   "outputs": [
    {
     "data": {
      "text/plain": [
       "array([17.85, 17.85, 17.85, 17.85, 17.85, 17.85, 17.85, 17.85, 17.85,\n",
       "       17.85, 17.85, 16.89, 16.89, 16.89, 16.89, 16.89, 16.89, 16.89,\n",
       "       18.8 , 16.89])"
      ]
     },
     "execution_count": 18,
     "metadata": {},
     "output_type": "execute_result"
    }
   ],
   "source": [
    "np.append(F[:,0], x[:,0])"
   ]
  },
  {
   "cell_type": "code",
   "execution_count": 19,
   "metadata": {},
   "outputs": [
    {
     "data": {
      "text/plain": [
       "array([[17.85, 18.48, 18.8 , ..., 16.26, 15.3 , 17.85],\n",
       "       [17.85, 18.17, 18.48, ..., 16.26, 15.3 , 17.85],\n",
       "       [17.85, 18.17, 18.48, ..., 16.26, 15.3 , 17.85],\n",
       "       ...,\n",
       "       [16.89, 16.89, 17.21, ..., 16.26, 15.3 , 17.85],\n",
       "       [18.8 , 18.48, 17.21, ..., 16.26, 15.3 , 17.85],\n",
       "       [16.89, 16.89, 17.53, ..., 16.26, 15.3 , 17.85]])"
      ]
     },
     "execution_count": 19,
     "metadata": {},
     "output_type": "execute_result"
    }
   ],
   "source": [
    "np.vstack((F, x))"
   ]
  },
  {
   "cell_type": "code",
   "execution_count": 20,
   "metadata": {},
   "outputs": [
    {
     "data": {
      "text/plain": [
       "102"
      ]
     },
     "execution_count": 20,
     "metadata": {},
     "output_type": "execute_result"
    }
   ],
   "source": [
    "len(depths['amplitude'])"
   ]
  },
  {
   "cell_type": "code",
   "execution_count": 32,
   "metadata": {},
   "outputs": [],
   "source": [
    "def inc_update(F, x, depths, threshold=0.8, window_size=10, method=\"DP2\", lam=0.0, parallel=True):\n",
    "    # Append new data point to the existing time series data\n",
    "    F_inc = np.vstack((F, x)) \n",
    "    \n",
    "    obs, fns = F.shape\n",
    "    obs2, fns2 = F_inc.shape\n",
    "    \n",
    "    # Ensure the number of functions is the same in the new and old data\n",
    "    if (fns != fns2):\n",
    "        raise Exception('Error: number of functions in increment != number of functions in F')\n",
    "    \n",
    "    t1 = np.linspace(0, 1, F.shape[0])  # (19, 102) -> original time points\n",
    "    t2 = np.linspace(0, 1, F_inc.shape[0])  # (20, 102) -> updated time points\n",
    "\n",
    "    # Iterate through each function (column) of the time series data\n",
    "    for i in range(fns):\n",
    "        # Get the old and new time series for this function\n",
    "        f1 = F[:, i]  # Previous data (old)\n",
    "        f2 = F_inc[:, i]  # New data (with the added point)\n",
    "        \n",
    "        # Calculate the gradients (rate of change) for the old and new data\n",
    "        grad_f1 = np.gradient(f1)  # Gradient of the old data (f1)\n",
    "        grad_f2 = np.gradient(f2)  # Gradient of the new data (f2)\n",
    "        \n",
    "        # Take the last `window_size` data points and calculate the gradient over this window\n",
    "        grad_f1_window = grad_f1[-window_size:]  # Last `window_size` data points of the old data's gradient\n",
    "        grad_f2_window = grad_f2[-window_size:]  # Last `window_size` data points of the new data's gradient\n",
    "\n",
    "        # Calculate the difference between the gradients of the new and old data\n",
    "        grad_diff = np.linalg.norm(grad_f2_window - grad_f1_window)\n",
    "        \n",
    "        # If the gradient difference exceeds the threshold, calculate elastic depths for all column pairs\n",
    "        if grad_diff > threshold:\n",
    "            # Iterate over all pairs of columns in the dataset F_inc\n",
    "            for i_col in range(fns):\n",
    "                for j_col in range(i_col + 1, fns):  # Only compute for distinct pairs (i_col != j_col)\n",
    "                    f1_col = F_inc[:, i_col]  # Function/column i\n",
    "                    f2_col = F_inc[:, j_col]  # Function/column j\n",
    "                    \n",
    "                    # Call the function to compute the elastic distance (depth) between the columns\n",
    "                    amp_new, phase_new = distmat(F_inc, f1_col, t2, 0, method)  # Assuming distmat computes the distance\n",
    "                    # You may need to adapt this if `distmat` requires specific parameters\n",
    "\n",
    "                    # Normalize the amplitude and phase depths\n",
    "                    amp_new = 1 / (1 + np.median(amp_new))\n",
    "                    phase_new = 1 / (1 + np.median(phase_new))\n",
    "                    phase_new = ((2 + np.pi) / np.pi) * (phase_new - 2 / (2 + np.pi))\n",
    "\n",
    "                    # Update the depth values for amplitude and phase\n",
    "                    depths['amplitude'][i_col] = amp_new\n",
    "                    depths['phase'][i_col] = phase_new\n",
    "                    depths['amplitude'][j_col] = amp_new\n",
    "                    depths['phase'][j_col] = phase_new\n",
    "    \n",
    "    return depths\n"
   ]
  },
  {
   "cell_type": "code",
   "execution_count": 33,
   "metadata": {},
   "outputs": [
    {
     "ename": "KeyboardInterrupt",
     "evalue": "",
     "output_type": "error",
     "traceback": [
      "\u001b[0;31m---------------------------------------------------------------------------\u001b[0m",
      "\u001b[0;31mKeyboardInterrupt\u001b[0m                         Traceback (most recent call last)",
      "Cell \u001b[0;32mIn[33], line 1\u001b[0m\n\u001b[0;32m----> 1\u001b[0m out_labels \u001b[39m=\u001b[39m inc_update(F, x, depths)\n",
      "Cell \u001b[0;32mIn[32], line 41\u001b[0m, in \u001b[0;36minc_update\u001b[0;34m(F, x, depths, threshold, window_size, method, lam, parallel)\u001b[0m\n\u001b[1;32m     38\u001b[0m f2_col \u001b[39m=\u001b[39m F_inc[:, j_col]  \u001b[39m# Function/column j\u001b[39;00m\n\u001b[1;32m     40\u001b[0m \u001b[39m# Call the function to compute the elastic distance (depth) between the columns\u001b[39;00m\n\u001b[0;32m---> 41\u001b[0m amp_new, phase_new \u001b[39m=\u001b[39m distmat(F_inc, f1_col, t2, \u001b[39m0\u001b[39;49m, method)  \u001b[39m# Assuming distmat computes the distance\u001b[39;00m\n\u001b[1;32m     42\u001b[0m \u001b[39m# You may need to adapt this if `distmat` requires specific parameters\u001b[39;00m\n\u001b[1;32m     43\u001b[0m \n\u001b[1;32m     44\u001b[0m \u001b[39m# Normalize the amplitude and phase depths\u001b[39;00m\n\u001b[1;32m     45\u001b[0m amp_new \u001b[39m=\u001b[39m \u001b[39m1\u001b[39m \u001b[39m/\u001b[39m (\u001b[39m1\u001b[39m \u001b[39m+\u001b[39m np\u001b[39m.\u001b[39mmedian(amp_new))\n",
      "Cell \u001b[0;32mIn[4], line 135\u001b[0m, in \u001b[0;36mdistmat\u001b[0;34m(f, f1, time, idx, method)\u001b[0m\n\u001b[1;32m    132\u001b[0m da \u001b[39m=\u001b[39m np\u001b[39m.\u001b[39mzeros(N)\n\u001b[1;32m    134\u001b[0m \u001b[39mfor\u001b[39;00m jj \u001b[39min\u001b[39;00m \u001b[39mrange\u001b[39m(N):\n\u001b[0;32m--> 135\u001b[0m     Dy,Dx \u001b[39m=\u001b[39m elastic_distance(f[:,jj], f1, time, method)\n\u001b[1;32m    137\u001b[0m     da[jj] \u001b[39m=\u001b[39m Dy\n\u001b[1;32m    138\u001b[0m     dp[jj] \u001b[39m=\u001b[39m Dx\n",
      "Cell \u001b[0;32mIn[4], line 76\u001b[0m, in \u001b[0;36melastic_distance\u001b[0;34m(f1, f2, time, method, lam)\u001b[0m\n\u001b[1;32m     73\u001b[0m Dy \u001b[39m=\u001b[39m np\u001b[39m.\u001b[39msqrt(trapz((qw \u001b[39m-\u001b[39m q1) \u001b[39m*\u001b[39m\u001b[39m*\u001b[39m \u001b[39m2\u001b[39m, time))\n\u001b[1;32m     74\u001b[0m M \u001b[39m=\u001b[39m time\u001b[39m.\u001b[39mshape[\u001b[39m0\u001b[39m]\n\u001b[0;32m---> 76\u001b[0m time1 \u001b[39m=\u001b[39m np\u001b[39m.\u001b[39;49mlinspace(\u001b[39m0\u001b[39;49m,\u001b[39m1\u001b[39;49m,M)\n\u001b[1;32m     77\u001b[0m binsize \u001b[39m=\u001b[39m np\u001b[39m.\u001b[39mmean(np\u001b[39m.\u001b[39mdiff(time1))\n\u001b[1;32m     78\u001b[0m psi \u001b[39m=\u001b[39m np\u001b[39m.\u001b[39msqrt(np\u001b[39m.\u001b[39mgradient(gam,binsize))\n",
      "File \u001b[0;32m/Library/Frameworks/Python.framework/Versions/3.10/lib/python3.10/site-packages/numpy/core/function_base.py:132\u001b[0m, in \u001b[0;36mlinspace\u001b[0;34m(start, stop, num, endpoint, retstep, dtype, axis)\u001b[0m\n\u001b[1;32m    129\u001b[0m start \u001b[39m=\u001b[39m asanyarray(start) \u001b[39m*\u001b[39m \u001b[39m1.0\u001b[39m\n\u001b[1;32m    130\u001b[0m stop  \u001b[39m=\u001b[39m asanyarray(stop)  \u001b[39m*\u001b[39m \u001b[39m1.0\u001b[39m\n\u001b[0;32m--> 132\u001b[0m dt \u001b[39m=\u001b[39m result_type(start, stop, \u001b[39mfloat\u001b[39;49m(num))\n\u001b[1;32m    133\u001b[0m \u001b[39mif\u001b[39;00m dtype \u001b[39mis\u001b[39;00m \u001b[39mNone\u001b[39;00m:\n\u001b[1;32m    134\u001b[0m     dtype \u001b[39m=\u001b[39m dt\n",
      "\u001b[0;31mKeyboardInterrupt\u001b[0m: "
     ]
    }
   ],
   "source": [
    "out_labels = inc_update(F, x, depths)"
   ]
  },
  {
   "cell_type": "code",
   "execution_count": 28,
   "metadata": {},
   "outputs": [
    {
     "data": {
      "text/plain": [
       "numpy.float64"
      ]
     },
     "execution_count": 28,
     "metadata": {},
     "output_type": "execute_result"
    }
   ],
   "source": []
  },
  {
   "cell_type": "code",
   "execution_count": 31,
   "metadata": {},
   "outputs": [
    {
     "data": {
      "image/png": "[encoded data removed]",
      "text/plain": [
       "<Figure size 1000x600 with 1 Axes>"
      ]
     },
     "metadata": {},
     "output_type": "display_data"
    }
   ],
   "source": [
    "import matplotlib.pyplot as plt\n",
    "\n",
    "# Assuming out_labels is a list of scalar values or arrays of gradient values (as before)\n",
    "# Also assuming you have a corresponding list or index that identifies the columns, e.g., ['C_1', 'C_2', ..., 'C_46']\n",
    "\n",
    "# Columns to annotate\n",
    "columns_to_annotate = ['C_4', 'C_6', 'C_35', 'C_40', 'C_44', 'C_45', 'C_46']\n",
    "\n",
    "# Create a figure for plotting\n",
    "plt.figure(figsize=(10, 6))\n",
    "\n",
    "# Iterate through each gradient in out_labels\n",
    "for i, gradient in enumerate(out_labels):\n",
    "    # If the gradient is a list or array (time series), plot it\n",
    "    if isinstance(gradient, np.ndarray):\n",
    "        plt.scatter(range(len(gradient)), gradient, alpha=0.7)\n",
    "    else:\n",
    "        # If the gradient is a scalar, plot it as a single point\n",
    "        plt.scatter(i, gradient, alpha=0.7)\n",
    "    \n",
    "    # Check if the current column is in the columns_to_annotate\n",
    "    column_name = f'C_{i}'  # Assuming i+1 corresponds to the correct column index ('C_1', 'C_2', etc.)\n",
    "    if column_name in columns_to_annotate:\n",
    "        # Annotate the point with its corresponding column name\n",
    "        plt.annotate(column_name, (i, gradient), textcoords=\"offset points\", xytext=(0, 10), ha='center')\n",
    "\n",
    "# Customize the plot\n",
    "plt.title(\"Gradients of Features\")\n",
    "plt.xlabel(\"Feature Index\")\n",
    "plt.ylabel(\"Gradient Value\")\n",
    "\n",
    "# Show the plot\n",
    "plt.show()\n",
    "\n",
    "\n"
   ]
  },
  {
   "cell_type": "code",
   "execution_count": 35,
   "metadata": {},
   "outputs": [
    {
     "name": "stdout",
     "output_type": "stream",
     "text": [
      "Distance C0 -> C1: (0.37453781951854453, 0.841327872534578)\n",
      "Distance C1 -> C0: (0.28003738307688647, 0.8176669547386526)\n",
      "Elastic distance is not symmetric.\n"
     ]
    }
   ],
   "source": [
    "#symmetry tets\n",
    "import numpy as np\n",
    "\n",
    "F = np.random.rand(20, 5)  # Example data with 20 observations and 5 functions\n",
    "t = np.linspace(0, 1, F.shape[0])\n",
    "C0 = F[:, 0]  # First column\n",
    "C1 = F[:, 1]  # Second column\n",
    "\n",
    "\n",
    "amp_C0_C1, phase_C0_C1 = distmat(F, C1, t, 0, \"DP2\")\n",
    "dist_C0_C1 = (1 / (1 + np.median(amp_C0_C1)), 1 / (1 + np.median(phase_C0_C1)))\n",
    "\n",
    "# Calculate elastic distance from C1 to C0\n",
    "amp_C1_C0, phase_C1_C0 = distmat(F, C0, t, 1, \"DP2\")\n",
    "dist_C1_C0 = (1 / (1 + np.median(amp_C1_C0)), 1 / (1 + np.median(phase_C1_C0)))\n",
    "\n",
    "# Test symmetry\n",
    "print(\"Distance C0 -> C1:\", dist_C0_C1)\n",
    "print(\"Distance C1 -> C0:\", dist_C1_C0)\n",
    "\n",
    "if np.allclose(dist_C0_C1, dist_C1_C0, atol=1e-6):\n",
    "    print(\"Elastic distance is symmetric.\")\n",
    "else:\n",
    "    print(\"Elastic distance is not symmetric.\")\n"
   ]
  },
  {
   "cell_type": "code",
   "execution_count": 36,
   "metadata": {},
   "outputs": [
    {
     "data": {
      "text/plain": [
       "array([False, False, False, False, False])"
      ]
     },
     "execution_count": 36,
     "metadata": {},
     "output_type": "execute_result"
    }
   ],
   "source": [
    "amp_C0_C1 == amp_C1_C0"
   ]
  }
 ],
 "metadata": {
  "kernelspec": {
   "display_name": "Python 3",
   "language": "python",
   "name": "python3"
  },
  "language_info": {
   "codemirror_mode": {
    "name": "ipython",
    "version": 3
   },
   "file_extension": ".py",
   "mimetype": "text/x-python",
   "name": "python",
   "nbconvert_exporter": "python",
   "pygments_lexer": "ipython3",
   "version": "3.10.7 (v3.10.7:6cc6b13308, Sep  5 2022, 14:02:52) [Clang 13.0.0 (clang-1300.0.29.30)]"
  },
  "vscode": {
   "interpreter": {
    "hash": "aee8b7b246df8f9039afb4144a1f6fd8d2ca17a180786b69acc140d282b71a49"
   }
  }
 },
 "nbformat": 4,
 "nbformat_minor": 2
}
